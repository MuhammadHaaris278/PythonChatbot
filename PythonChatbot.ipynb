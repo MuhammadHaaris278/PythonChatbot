{
 "cells": [
  {
   "cell_type": "code",
   "execution_count": null,
   "id": "15a06842-0dad-4399-ac3b-1d6aae2e29ad",
   "metadata": {},
   "outputs": [
    {
     "name": "stderr",
     "output_type": "stream",
     "text": [
      "[nltk_data] Downloading package punkt to\n",
      "[nltk_data]     C:\\Users\\muham\\AppData\\Roaming\\nltk_data...\n",
      "[nltk_data]   Package punkt is already up-to-date!\n",
      "[nltk_data] Downloading package wordnet to\n",
      "[nltk_data]     C:\\Users\\muham\\AppData\\Roaming\\nltk_data...\n",
      "[nltk_data]   Package wordnet is already up-to-date!\n"
     ]
    },
    {
     "name": "stdout",
     "output_type": "stream",
     "text": [
      "Hello! I'm your chatbot. Type 'quit' to exit.\n"
     ]
    },
    {
     "name": "stdin",
     "output_type": "stream",
     "text": [
      "You:  Hey\n"
     ]
    },
    {
     "name": "stdout",
     "output_type": "stream",
     "text": [
      "Bot: Hi there! How can I assist you?\n"
     ]
    },
    {
     "name": "stdin",
     "output_type": "stream",
     "text": [
      "You:  how are you?\n"
     ]
    },
    {
     "name": "stdout",
     "output_type": "stream",
     "text": [
      "Bot: I'm not sure I understand.\n"
     ]
    }
   ],
   "source": [
    "import nltk\n",
    "import spacy\n",
    "from nltk.tokenize import word_tokenize\n",
    "from nltk.stem import WordNetLemmatizer\n",
    "from collections import defaultdict\n",
    "import random\n",
    "import logging\n",
    "\n",
    "nltk.download('punkt')\n",
    "nltk.download('wordnet')\n",
    "\n",
    "logging.basicConfig(filename='chatbot.log', level=logging.INFO, format='%(asctime)s - %(message)s')\n",
    "\n",
    "# NLTK setup\n",
    "lemmatizer = WordNetLemmatizer()\n",
    "\n",
    "def preprocess_text_nltk(text):\n",
    "    tokens = word_tokenize(text)\n",
    "    lemmas = [lemmatizer.lemmatize(token.lower()) for token in tokens]\n",
    "    return lemmas\n",
    "\n",
    "# spaCy setup\n",
    "nlp = spacy.load('en_core_web_sm')\n",
    "\n",
    "def preprocess_text_spacy(text):\n",
    "    doc = nlp(text)\n",
    "    lemmas = [token.lemma_.lower() for token in doc]\n",
    "    return lemmas\n",
    "\n",
    "# Define intents and responses\n",
    "intents = {\n",
    "    \"greeting\": [\"hello\", \"hi\", \"hey\", \"good morning\", \"good afternoon\"],\n",
    "    \"farewell\": [\"bye\", \"goodbye\", \"see you\", \"take care\"],\n",
    "    \"thanks\": [\"thanks\", \"thank you\", \"appreciate it\"],\n",
    "    \"weather\": [\"weather\", \"rain\", \"sunny\", \"snow\"],\n",
    "    \"time\": [\"time\", \"clock\", \"current time\"],\n",
    "    \"joke\": [\"joke\", \"funny\", \"tell me a joke\"],\n",
    "    \"name\": [\"name\", \"who are you\"],\n",
    "    \"default\": [\"I'm sorry, I didn't understand that.\"]\n",
    "}\n",
    "\n",
    "responses = {\n",
    "    \"greeting\": [\"Hello! How can I help you today?\", \"Hi there! How can I assist you?\", \"Hey! What can I do for you?\"],\n",
    "    \"farewell\": [\"Goodbye! Have a great day!\", \"Bye! Take care!\", \"See you later!\"],\n",
    "    \"thanks\": [\"You're welcome!\", \"No problem!\", \"Happy to help!\"],\n",
    "    \"weather\": [\"I'm not sure about the weather, but I hope it's nice!\", \"I can't check the weather right now, sorry.\"],\n",
    "    \"time\": [\"I can't check the time right now, but it's always a good time to chat!\", \"Sorry, I can't tell you the current time.\"],\n",
    "    \"joke\": [\"Why don't scientists trust atoms? Because they make up everything!\", \"Why did the scarecrow win an award? Because he was outstanding in his field!\"],\n",
    "    \"name\": [\"I'm a chatbot created to assist you!\", \"You can call me Chatbot.\"],\n",
    "    \"default\": [\"I'm sorry, I didn't understand that.\", \"Could you please rephrase that?\", \"I'm not sure I understand.\"]\n",
    "}\n",
    "\n",
    "context = defaultdict(str)\n",
    "user_info = defaultdict(str)\n",
    "\n",
    "def identify_intent(user_input, use_spacy=False):\n",
    "    lemmas = preprocess_text_spacy(user_input) if use_spacy else preprocess_text_nltk(user_input)\n",
    "    for intent, keywords in intents.items():\n",
    "        if any(keyword in lemmas for keyword in keywords):\n",
    "            return intent\n",
    "    return \"default\"\n",
    "\n",
    "def extract_entities(user_input):\n",
    "    doc = nlp(user_input)\n",
    "    entities = [(ent.text, ent.label_) for ent in doc.ents]\n",
    "    return entities\n",
    "\n",
    "def generate_response(user_input, use_spacy=False):\n",
    "    intent = identify_intent(user_input, use_spacy)\n",
    "    response = random.choice(responses.get(intent, responses[\"default\"]))\n",
    "    \n",
    "    if intent == \"name\":\n",
    "        user_name = user_info.get(\"name\", \"\")\n",
    "        if user_name:\n",
    "            response = f\"I'm a chatbot created to assist you, {user_name}!\"\n",
    "        else:\n",
    "            response = \"I'm a chatbot created to assist you!\"\n",
    "    \n",
    "    if intent == \"greeting\" and \"name\" in user_info:\n",
    "        response = f\"Nice to see you again, {user_info['name']}!\"\n",
    "    \n",
    "    return response\n",
    "\n",
    "def chatbot(use_spacy=False):\n",
    "    print(\"Hello! I'm your chatbot. Type 'quit' to exit.\")\n",
    "    logging.info(\"Chatbot session started.\")\n",
    "    \n",
    "    while True:\n",
    "        try:\n",
    "            user_input = input(\"You: \")\n",
    "            if user_input.lower() == 'quit':\n",
    "                logging.info(\"Chatbot session ended.\")\n",
    "                break\n",
    "            \n",
    "            # Handle the name intent to personalize the greeting\n",
    "            if \"name\" in user_input.lower():\n",
    "                user_name = input(\"Please tell me your name: \")\n",
    "                user_info[\"name\"] = user_name\n",
    "                response = \"Got it! I will remember your name.\"\n",
    "            else:\n",
    "                response = generate_response(user_input, use_spacy)\n",
    "            \n",
    "            print(f\"Bot: {response}\")\n",
    "            logging.info(f\"User: {user_input}\")\n",
    "            logging.info(f\"Bot: {response}\")\n",
    "        except Exception as e:\n",
    "            print(\"Bot: Sorry, something went wrong. Please try again.\")\n",
    "            logging.error(f\"Error: {str(e)}\")\n",
    "\n",
    "use_spacy = True\n",
    "chatbot(use_spacy)\n"
   ]
  },
  {
   "cell_type": "code",
   "execution_count": null,
   "id": "d4cbfc66-1dd4-4f05-a59f-e2ff761cbd58",
   "metadata": {},
   "outputs": [],
   "source": []
  }
 ],
 "metadata": {
  "kernelspec": {
   "display_name": "Python 3 (ipykernel)",
   "language": "python",
   "name": "python3"
  },
  "language_info": {
   "codemirror_mode": {
    "name": "ipython",
    "version": 3
   },
   "file_extension": ".py",
   "mimetype": "text/x-python",
   "name": "python",
   "nbconvert_exporter": "python",
   "pygments_lexer": "ipython3",
   "version": "3.12.1"
  }
 },
 "nbformat": 4,
 "nbformat_minor": 5
}
